{
 "cells": [
  {
   "cell_type": "code",
   "execution_count": 1,
   "metadata": {},
   "outputs": [],
   "source": []
  },
  {
   "cell_type": "code",
   "execution_count": 2,
   "metadata": {},
   "outputs": [],
   "source": [
    "import pandas as pd\n",
    "\n",
    "\n",
    "def setting(file_name):\n",
    "    df = pd.read_csv(file_name)\n",
    "    for i in df.index:\n",
    "        df.loc[i, 'Hours'] = int(df.loc[i, 'time'][0:2]) + int(df.loc[i, 'time'][3:5])/60\n",
    "    dfx = df.set_index('id')\n",
    "    return(dfx)"
   ]
  },
  {
   "cell_type": "code",
   "execution_count": 3,
   "metadata": {},
   "outputs": [],
   "source": [
    "start_file = 'Parking_csv/TCmSV_06-03_1100.csv'\n",
    "end_file   = 'Parking_csv/TCmSV_06-03_1300.csv'\n",
    "\n",
    "df_start = setting(start_file)\n",
    "df_end   = setting(end_file)\n",
    "df_delta = df_end[['Unnamed: 0', 'wgs84x', 'wgs84y']].copy()\n",
    "\n",
    "df_delta['delta']   = df_end['availablecar'] - df_start['availablecar']\n",
    "df_delta['delta+']  = df_delta['delta'].clip(lower=0)   # increase\n",
    "df_delta['delta-']  = (-df_delta['delta']).clip(lower=0) # decrease\n",
    "\n",
    "output_file = f\"Traffic_csv/parking_available_{start_file[18:28]}_to_{end_file[18:28]}.csv\"\n",
    "df_delta.to_csv(output_file, index=False)"
   ]
  }
 ],
 "metadata": {
  "kernelspec": {
   "display_name": "Python 3",
   "language": "python",
   "name": "python3"
  },
  "language_info": {
   "codemirror_mode": {
    "name": "ipython",
    "version": 3
   },
   "file_extension": ".py",
   "mimetype": "text/x-python",
   "name": "python",
   "nbconvert_exporter": "python",
   "pygments_lexer": "ipython3",
   "version": "3.10.0"
  }
 },
 "nbformat": 4,
 "nbformat_minor": 2
}
