{
 "cells": [
  {
   "cell_type": "code",
   "execution_count": null,
   "metadata": {},
   "outputs": [],
   "source": [
    "import pandas as pd\n",
    "import matplotlib.pyplot as plt\n",
    "import json\n",
    "\n",
    "\n",
    "def totalvolPlot(file_name, title_name):\n",
    "    df = pd.read_csv(file_name)\n",
    "    \n",
    "    # Convert 'time' to hours\n",
    "    df['Hours'] = df['time'].apply(lambda t: int(t[:2]) + int(t[3:5])/60)\n",
    "    \n",
    "    # Aggregate: mean and standard error per hour\n",
    "    df_agg = df.groupby('Hours')['TotalVol'].agg(['mean', 'sem']).reset_index()\n",
    "    # 'sem' = standard error of the mean\n",
    "    \n",
    "    # Plot mean line\n",
    "    plt.figure(figsize=(20, 8))\n",
    "    plt.plot(df_agg['Hours'], df_agg['mean'], color='#2E86C1', marker='o', linestyle='-')\n",
    "    \n",
    "    # Plot confidence interval (mean ± 1.96*sem for 95% CI)\n",
    "    ci = 1.96 * df_agg['sem']\n",
    "    plt.fill_between(df_agg['Hours'], df_agg['mean'] - ci, df_agg['mean'] + ci,\n",
    "                     color='#2E86C1', alpha=0.2)\n",
    "    \n",
    "    # Labels, limits, grid\n",
    "    plt.title(title_name, fontsize=16)\n",
    "    plt.xlabel(\"Hours\", fontsize=14)\n",
    "    plt.ylabel(\"Avg Volume\", fontsize=14)\n",
    "    plt.xlim(0, 24)\n",
    "    plt.ylim(20, 100)\n",
    "    plt.grid(True)\n",
    "    \n",
    "    plt.show()\n",
    "\n",
    "    return {\n",
    "        'mean_x': df_agg['Hours'].tolist(),\n",
    "        'mean_y': df_agg['mean'].tolist(),\n",
    "        'ci_upper': (df_agg['mean'] + ci).tolist(),\n",
    "        'ci_lower': (df_agg['mean'] - ci).tolist()\n",
    "    }"
   ]
  },
  {
   "cell_type": "code",
   "execution_count": null,
   "metadata": {},
   "outputs": [],
   "source": [
    "all = []\n",
    "all.append(totalvolPlot('Traffic_csv/GetVD_06-01.csv', 'Traffic Volume (Taipei City) 2020-06-01'))\n",
    "all.append(totalvolPlot('Traffic_csv/GetVD_06-02.csv', 'Traffic Volume (Taipei City) 2020-06-02'))\n",
    "all.append(totalvolPlot('Traffic_csv/GetVD_06-03.csv', 'Traffic Volume (Taipei City) 2020-06-03'))\n",
    "all.append(totalvolPlot('Traffic_csv/GetVD_06-04.csv', 'Traffic Volume (Taipei City) 2020-06-04'))\n",
    "all.append(totalvolPlot('Traffic_csv/GetVD_06-05.csv', 'Traffic Volume (Taipei City) 2020-06-05'))\n",
    "all.append(totalvolPlot('Traffic_csv/GetVD_06-06.csv', 'Traffic Volume (Taipei City) 2020-06-06'))\n",
    "all.append(totalvolPlot('Traffic_csv/GetVD_06-07.csv', 'Traffic Volume (Taipei City) 2020-06-07'))"
   ]
  },
  {
   "cell_type": "code",
   "execution_count": null,
   "metadata": {},
   "outputs": [],
   "source": [
    "with open(\"../public/data/traffic_all.json\", \"w\") as f:\n",
    "    json.dump(all, f)"
   ]
  }
 ],
 "metadata": {
  "kernelspec": {
   "display_name": "Python 3",
   "language": "python",
   "name": "python3"
  },
  "language_info": {
   "codemirror_mode": {
    "name": "ipython",
    "version": 3
   },
   "file_extension": ".py",
   "mimetype": "text/x-python",
   "name": "python",
   "nbconvert_exporter": "python",
   "pygments_lexer": "ipython3",
   "version": "3.10.0"
  }
 },
 "nbformat": 4,
 "nbformat_minor": 2
}
